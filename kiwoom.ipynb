{
 "cells": [
  {
   "cell_type": "code",
   "execution_count": 1,
   "id": "e035ca98",
   "metadata": {},
   "outputs": [],
   "source": [
    "import sys\n",
    "from PyQt5.QtWidgets import *\n",
    "from PyQt5.QtCore import *\n",
    "from PyQt5.QAxContainer import *"
   ]
  },
  {
   "cell_type": "code",
   "execution_count": 2,
   "id": "ecc7afdf",
   "metadata": {},
   "outputs": [
    {
     "name": "stdout",
     "output_type": "stream",
     "text": [
      "('32bit', 'WindowsPE')\n"
     ]
    }
   ],
   "source": [
    "import platform\n",
    "print(platform.architecture())"
   ]
  },
  {
   "cell_type": "code",
   "execution_count": 3,
   "id": "c585092f",
   "metadata": {},
   "outputs": [],
   "source": [
    "class Kiwoom(QAxWidget):\n",
    "    def __init__(self):\n",
    "        super().__init__()\n",
    "        self.login_event_loop = QEventLoop()\n",
    "        self.get_ocx_instance()\n",
    "        self.event_slots()\n",
    "        self.signal_login_commConnect()\n",
    "        \n",
    "    def get_ocx_instance(self):\n",
    "        self.setControl(\"KHOPENAPI.KHOpenAPICtrl.1\")\n",
    "        \n",
    "    def event_slots(self):\n",
    "        self.OnEventConnect.connect(self.login_slot)\n",
    "        \n",
    "    \n",
    "    def signal_login_commConnect(self):\n",
    "        self.dynamicCall(\"CommConnect()\")\n",
    "        self.login_event_loop.exec_()\n",
    "        \n",
    "    def login_slot(self, err_code):\n",
    "        if err_code == 0:\n",
    "            print(\"로그인 성공\")\n",
    "        else:\n",
    "            print(\"로그인 실패\")\n",
    "        self.login_event_loop.exit()"
   ]
  },
  {
   "cell_type": "code",
   "execution_count": 4,
   "id": "ed6479e6",
   "metadata": {},
   "outputs": [],
   "source": [
    "class Main:\n",
    "    def __init__(self):\n",
    "        self.app = QApplication(sys.argv)\n",
    "        self.kiwoom = Kiwoom()\n",
    "        self.app.exec_()"
   ]
  },
  {
   "cell_type": "code",
   "execution_count": 5,
   "id": "0b865ed9",
   "metadata": {},
   "outputs": [
    {
     "ename": "AttributeError",
     "evalue": "'Kiwoom' object has no attribute 'OnEventConnect'",
     "output_type": "error",
     "traceback": [
      "\u001b[1;31m---------------------------------------------------------------------------\u001b[0m",
      "\u001b[1;31mAttributeError\u001b[0m                            Traceback (most recent call last)",
      "\u001b[1;32mc:\\Users\\realr\\Desktop\\study\\new stock\\kiwoom.ipynb Cell 5\u001b[0m in \u001b[0;36m<cell line: 1>\u001b[1;34m()\u001b[0m\n\u001b[1;32m----> <a href='vscode-notebook-cell:/c%3A/Users/realr/Desktop/study/new%20stock/kiwoom.ipynb#W4sZmlsZQ%3D%3D?line=0'>1</a>\u001b[0m Main()\n",
      "\u001b[1;32mc:\\Users\\realr\\Desktop\\study\\new stock\\kiwoom.ipynb Cell 5\u001b[0m in \u001b[0;36mMain.__init__\u001b[1;34m(self)\u001b[0m\n\u001b[0;32m      <a href='vscode-notebook-cell:/c%3A/Users/realr/Desktop/study/new%20stock/kiwoom.ipynb#W4sZmlsZQ%3D%3D?line=1'>2</a>\u001b[0m \u001b[39mdef\u001b[39;00m \u001b[39m__init__\u001b[39m(\u001b[39mself\u001b[39m):\n\u001b[0;32m      <a href='vscode-notebook-cell:/c%3A/Users/realr/Desktop/study/new%20stock/kiwoom.ipynb#W4sZmlsZQ%3D%3D?line=2'>3</a>\u001b[0m     \u001b[39mself\u001b[39m\u001b[39m.\u001b[39mapp \u001b[39m=\u001b[39m QApplication(sys\u001b[39m.\u001b[39margv)\n\u001b[1;32m----> <a href='vscode-notebook-cell:/c%3A/Users/realr/Desktop/study/new%20stock/kiwoom.ipynb#W4sZmlsZQ%3D%3D?line=3'>4</a>\u001b[0m     \u001b[39mself\u001b[39m\u001b[39m.\u001b[39mkiwoom \u001b[39m=\u001b[39m Kiwoom()\n\u001b[0;32m      <a href='vscode-notebook-cell:/c%3A/Users/realr/Desktop/study/new%20stock/kiwoom.ipynb#W4sZmlsZQ%3D%3D?line=4'>5</a>\u001b[0m     \u001b[39mself\u001b[39m\u001b[39m.\u001b[39mapp\u001b[39m.\u001b[39mexec_()\n",
      "\u001b[1;32mc:\\Users\\realr\\Desktop\\study\\new stock\\kiwoom.ipynb Cell 5\u001b[0m in \u001b[0;36mKiwoom.__init__\u001b[1;34m(self)\u001b[0m\n\u001b[0;32m      <a href='vscode-notebook-cell:/c%3A/Users/realr/Desktop/study/new%20stock/kiwoom.ipynb#W4sZmlsZQ%3D%3D?line=3'>4</a>\u001b[0m \u001b[39mself\u001b[39m\u001b[39m.\u001b[39mlogin_event_loop \u001b[39m=\u001b[39m QEventLoop()\n\u001b[0;32m      <a href='vscode-notebook-cell:/c%3A/Users/realr/Desktop/study/new%20stock/kiwoom.ipynb#W4sZmlsZQ%3D%3D?line=4'>5</a>\u001b[0m \u001b[39mself\u001b[39m\u001b[39m.\u001b[39mget_ocx_instance()\n\u001b[1;32m----> <a href='vscode-notebook-cell:/c%3A/Users/realr/Desktop/study/new%20stock/kiwoom.ipynb#W4sZmlsZQ%3D%3D?line=5'>6</a>\u001b[0m \u001b[39mself\u001b[39;49m\u001b[39m.\u001b[39;49mevent_slots()\n\u001b[0;32m      <a href='vscode-notebook-cell:/c%3A/Users/realr/Desktop/study/new%20stock/kiwoom.ipynb#W4sZmlsZQ%3D%3D?line=6'>7</a>\u001b[0m \u001b[39mself\u001b[39m\u001b[39m.\u001b[39msignal_login_commConnect()\n",
      "\u001b[1;32mc:\\Users\\realr\\Desktop\\study\\new stock\\kiwoom.ipynb Cell 5\u001b[0m in \u001b[0;36mKiwoom.event_slots\u001b[1;34m(self)\u001b[0m\n\u001b[0;32m     <a href='vscode-notebook-cell:/c%3A/Users/realr/Desktop/study/new%20stock/kiwoom.ipynb#W4sZmlsZQ%3D%3D?line=11'>12</a>\u001b[0m \u001b[39mdef\u001b[39;00m \u001b[39mevent_slots\u001b[39m(\u001b[39mself\u001b[39m):\n\u001b[1;32m---> <a href='vscode-notebook-cell:/c%3A/Users/realr/Desktop/study/new%20stock/kiwoom.ipynb#W4sZmlsZQ%3D%3D?line=12'>13</a>\u001b[0m     \u001b[39mself\u001b[39;49m\u001b[39m.\u001b[39;49mOnEventConnect\u001b[39m.\u001b[39mconnect(\u001b[39mself\u001b[39m\u001b[39m.\u001b[39mlogin_slot)\n",
      "\u001b[1;31mAttributeError\u001b[0m: 'Kiwoom' object has no attribute 'OnEventConnect'"
     ]
    }
   ],
   "source": [
    "Main()"
   ]
  },
  {
   "cell_type": "code",
   "execution_count": null,
   "id": "28663fc5",
   "metadata": {},
   "outputs": [
    {
     "name": "stdout",
     "output_type": "stream",
     "text": [
      "\n",
      "     active environment : py38\n",
      "    active env location : d:\\Users\\realr\\Anaconda3\\envs\\py38\n",
      "            shell level : 2\n",
      "       user config file : C:\\Users\\realr\\.condarc\n",
      " populated config files : C:\\Users\\realr\\.condarc\n",
      "                          d:\\Users\\realr\\Anaconda3\\envs\\py38\\.condarc\n",
      "          conda version : 4.6.14\n",
      "    conda-build version : 3.17.8\n",
      "         python version : 3.6.8.final.0\n",
      "       base environment : d:\\Users\\realr\\Anaconda3  (writable)\n",
      "           channel URLs : https://repo.anaconda.com/pkgs/main/win-32\n",
      "                          https://repo.anaconda.com/pkgs/main/noarch\n",
      "                          https://repo.anaconda.com/pkgs/free/win-32\n",
      "                          https://repo.anaconda.com/pkgs/free/noarch\n",
      "                          https://repo.anaconda.com/pkgs/r/win-32\n",
      "                          https://repo.anaconda.com/pkgs/r/noarch\n",
      "                          https://repo.anaconda.com/pkgs/msys2/win-32\n",
      "                          https://repo.anaconda.com/pkgs/msys2/noarch\n",
      "          package cache : d:\\Users\\realr\\Anaconda3\\pkgs\n",
      "                          C:\\Users\\realr\\.conda\\pkgs\n",
      "                          C:\\Users\\realr\\AppData\\Local\\conda\\conda\\pkgs\n",
      "       envs directories : d:\\Users\\realr\\Anaconda3\\envs\n",
      "                          C:\\Users\\realr\\.conda\\envs\n",
      "                          C:\\Users\\realr\\AppData\\Local\\conda\\conda\\envs\n",
      "               platform : win-32\n",
      "             user-agent : conda/4.6.14 requests/2.21.0 CPython/3.6.8 Windows/10 Windows/10.0.19041\n",
      "          administrator : False\n",
      "             netrc file : None\n",
      "           offline mode : False\n",
      "\n"
     ]
    }
   ],
   "source": [
    "!conda info"
   ]
  },
  {
   "cell_type": "code",
   "execution_count": null,
   "id": "eaf2ee6b",
   "metadata": {},
   "outputs": [],
   "source": []
  }
 ],
 "metadata": {
  "kernelspec": {
   "display_name": "Python 3 (ipykernel)",
   "language": "python",
   "name": "python3"
  },
  "language_info": {
   "codemirror_mode": {
    "name": "ipython",
    "version": 3
   },
   "file_extension": ".py",
   "mimetype": "text/x-python",
   "name": "python",
   "nbconvert_exporter": "python",
   "pygments_lexer": "ipython3",
   "version": "3.8.13"
  }
 },
 "nbformat": 4,
 "nbformat_minor": 5
}
